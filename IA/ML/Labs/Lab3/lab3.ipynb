{
 "cells": [
  {
   "cell_type": "code",
   "execution_count": 32,
   "id": "surprised-expansion",
   "metadata": {},
   "outputs": [],
   "source": [
    "import numpy as np\n",
    "import matplotlib.pyplot as plt"
   ]
  },
  {
   "cell_type": "code",
   "execution_count": 21,
   "id": "native-lottery",
   "metadata": {},
   "outputs": [],
   "source": [
    "class KnnClassifier:\n",
    "    def __init__(self, train_images, train_labels):\n",
    "        self.train_images = train_images\n",
    "        self.train_labels = train_labels \n",
    "    \n",
    "    def classify_image(self, test_image, num_neighbors=3, metric='l2'):\n",
    "        \n",
    "        if metric == 'l1':\n",
    "            distances = np.sum(np.abs(self.train_images - test_image), axis=1)\n",
    "        elif metric == 'l2':\n",
    "            distances = np.sqrt(np.sum(((self.train_images - test_image) ** 2), axis=1))\n",
    "        else:\n",
    "            raise Exception(\"Metric not implemented!\")\n",
    "        \n",
    "        sorted_indices = distances.argsort()\n",
    "        \n",
    "        nearest_indices = sorted_indices[:num_neighbors]\n",
    "        nearest_labels = self.train_labels[nearest_indices]\n",
    "        \n",
    "        return np.bincount(nearest_labels).argmax()\n",
    "    \n",
    "    def classify_images(self, test_images, num_neighbors=3, metric='l2'):\n",
    "        predicted_labels = [self.classify_image(image, num_neighbors, metric) for image in test_images]\n",
    "        \n",
    "        return np.array(predicted_labels)\n",
    "    "
   ]
  },
  {
   "cell_type": "code",
   "execution_count": 11,
   "id": "balanced-toilet",
   "metadata": {},
   "outputs": [],
   "source": [
    "def accuracy_score(ground_truth_labels, predicted_labels):\n",
    "    return np.mean(ground_truth_labels == predicted_labels)"
   ]
  },
  {
   "cell_type": "code",
   "execution_count": 16,
   "id": "statutory-surfing",
   "metadata": {},
   "outputs": [],
   "source": [
    "train_images = np.loadtxt(\"data/train_images.txt\")\n",
    "train_labels = np.int32(np.loadtxt(\"data/train_labels.txt\"))"
   ]
  },
  {
   "cell_type": "code",
   "execution_count": 19,
   "id": "robust-least",
   "metadata": {},
   "outputs": [],
   "source": [
    "test_images = np.loadtxt(\"data/test_images.txt\")\n",
    "test_labels = np.int32(np.loadtxt(\"data/test_labels.txt\"))"
   ]
  },
  {
   "cell_type": "code",
   "execution_count": 22,
   "id": "corrected-catholic",
   "metadata": {},
   "outputs": [],
   "source": [
    "knn_classifier = KnnClassifier(train_images, train_labels)"
   ]
  },
  {
   "cell_type": "code",
   "execution_count": 23,
   "id": "billion-increase",
   "metadata": {},
   "outputs": [],
   "source": [
    "predicted_labels = knn_classifier.classify_images(test_images, num_neighbors=3, metric=\"l2\")"
   ]
  },
  {
   "cell_type": "code",
   "execution_count": 24,
   "id": "funky-token",
   "metadata": {},
   "outputs": [
    {
     "name": "stdout",
     "output_type": "stream",
     "text": [
      "0.898\n"
     ]
    }
   ],
   "source": [
    "acc = accuracy_score(test_labels, predicted_labels)\n",
    "print(acc)"
   ]
  },
  {
   "cell_type": "code",
   "execution_count": 28,
   "id": "restricted-alcohol",
   "metadata": {},
   "outputs": [],
   "source": [
    "def get_accuracies(train_images, train_labels, test_images, test_labels, metric=\"l2\"):\n",
    "    knn_classifier = KnnClassifier(train_images, train_labels)\n",
    "    \n",
    "    return [accuracy_score(test_labels, knn_classifier.classify_images(test_images, num_neighbors=num, metric=metric)) for num in [1, 3, 5, 7, 9]]\n",
    "        \n",
    "    "
   ]
  },
  {
   "cell_type": "code",
   "execution_count": 29,
   "id": "early-raleigh",
   "metadata": {},
   "outputs": [],
   "source": [
    "acc_l2 = get_accuracies(train_images, train_labels, test_images, test_labels, metric=\"l2\")"
   ]
  },
  {
   "cell_type": "code",
   "execution_count": 31,
   "id": "hollywood-methodology",
   "metadata": {},
   "outputs": [],
   "source": [
    "acc_l1 = get_accuracies(train_images, train_labels, test_images, test_labels, metric=\"l1\")"
   ]
  },
  {
   "cell_type": "code",
   "execution_count": 34,
   "id": "potential-mouse",
   "metadata": {},
   "outputs": [
    {
     "data": {
      "image/png": "[encoded data removed]",
      "text/plain": [
       "<Figure size 432x288 with 1 Axes>"
      ]
     },
     "metadata": {
      "needs_background": "light"
     },
     "output_type": "display_data"
    }
   ],
   "source": [
    "plt.plot([1, 3, 5, 7, 9], acc_l2)\n",
    "plt.plot([1, 3, 5, 7, 9], acc_l1)\n",
    "plt.legend(['l2', 'l1'])\n",
    "plt.xlabel(\"num neighbors\")\n",
    "plt.ylabel(\"accuracy\")\n",
    "plt.show()"
   ]
  }
 ],
 "metadata": {
  "kernelspec": {
   "display_name": "Python 3",
   "language": "python",
   "name": "python3"
  },
  "language_info": {
   "codemirror_mode": {
    "name": "ipython",
    "version": 3
   },
   "file_extension": ".py",
   "mimetype": "text/x-python",
   "name": "python",
   "nbconvert_exporter": "python",
   "pygments_lexer": "ipython3",
   "version": "3.6.10"
  }
 },
 "nbformat": 4,
 "nbformat_minor": 5
}
